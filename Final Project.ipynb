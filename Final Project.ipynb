{
 "cells": [
  {
   "cell_type": "raw",
   "metadata": {},
   "source": [
    "Please implement the Final project . Use four algorithms: Neural Network, Ensemble technique (Random Forest or Gradient Descent or Super Learners ) , Regression and SVM Support Vector Machine. <br>\n",
    "<br>\n",
    " Project specification is uploaded under Modules. Please implement 4 distinct questions per person.<br>\n",
    "<br>\n",
    "Please upload the .ipynb file, .html file/pdf file and data file<br>"
   ]
  },
  {
   "cell_type": "raw",
   "metadata": {},
   "source": [
    "STEP 1: Formulate the project research framework.<br>\n",
    "<br>\n",
    "Data source: https://www.kaggle.com/harasissingh/admission-predict<br>\n",
    "Research Questions:<br>\n",
    "1. predict if research is needed in a university given university rating, gre score and toefl score of students applying to that university.<br>\n",
    "2. Compare the accuracy of each of the 4 algorithms.<br>"
   ]
  },
  {
   "cell_type": "code",
   "execution_count": 12,
   "metadata": {},
   "outputs": [],
   "source": [
    "import numpy as np\n",
    "import pandas as pd\n",
    "from sklearn.model_selection import train_test_split\n",
    "from sklearn.naive_bayes import GaussianNB\n",
    "from sklearn.metrics import accuracy_score\n",
    "import matplotlib.pyplot as plt\n",
    "import seaborn as sns\n",
    "from sklearn.datasets import load_iris\n",
    "from sklearn.model_selection import train_test_split\n",
    "from sklearn.naive_bayes import GaussianNB\n",
    "from sklearn.model_selection import KFold\n",
    "from sklearn.model_selection import cross_validate\n",
    "from sklearn.metrics import classification_report, confusion_matrix\n",
    "from sklearn import preprocessing\n",
    "from sklearn import utils\n",
    "from pandas.plotting import scatter_matrix\n"
   ]
  },
  {
   "cell_type": "code",
   "execution_count": 13,
   "metadata": {},
   "outputs": [
    {
     "name": "stdout",
     "output_type": "stream",
     "text": [
      "   GRE Score  TOEFL Score  University Rating  SOP  LOR   CGPA  Research  \\\n",
      "0        337          118                  4  4.5   4.5  9.65         1   \n",
      "1        324          107                  4  4.0   4.5  8.87         1   \n",
      "2        316          104                  3  3.0   3.5  8.00         1   \n",
      "3        322          110                  3  3.5   2.5  8.67         1   \n",
      "4        314          103                  2  2.0   3.0  8.21         0   \n",
      "\n",
      "   Chance of Admit   \n",
      "0              0.92  \n",
      "1              0.76  \n",
      "2              0.72  \n",
      "3              0.80  \n",
      "4              0.65  \n",
      "False\n"
     ]
    }
   ],
   "source": [
    "df = pd.read_csv('Admission_Predict.csv')\n",
    "del df['Serial No.']\n",
    "print(df.head(5))\n",
    "#normalizing and standardizing data\n",
    "print(df.isnull().values.any())"
   ]
  },
  {
   "cell_type": "raw",
   "metadata": {},
   "source": [
    "STEP 2: Data Science Analysis<br>\n",
    "<br>\n",
    "2.1 Descriptive Statistics<br>\n",
    "a)For the categorical variable create a frequency distribution.<br>\n",
    "categorical variable: University Rating (1-5)<br>\n",
    "quantative variable: research ( 0 or 1)<br>\n",
    "b)For the categorical variable create a bar diagram.<br>\n",
    "c)For thequantitative variable create numerical summaries grouped by a categorical variable.<br>\n",
    "d)For quantitative variable create a histogram and a boxplotgrouped by categorical<br>"
   ]
  },
  {
   "cell_type": "code",
   "execution_count": 14,
   "metadata": {},
   "outputs": [
    {
     "name": "stdout",
     "output_type": "stream",
     "text": [
      "    Actual  Predicted\n",
      "0     0.71   0.647408\n",
      "1     0.70   0.637285\n",
      "2     0.79   0.819508\n",
      "3     0.73   0.617037\n",
      "4     0.72   0.718273\n",
      "..     ...        ...\n",
      "75    0.61   0.667655\n",
      "76    0.69   0.617037\n",
      "77    0.62   0.687902\n",
      "78    0.93   0.900496\n",
      "79    0.43   0.525926\n",
      "\n",
      "[80 rows x 2 columns]\n"
     ]
    },
    {
     "data": {
      "image/png": "[encoded data removed]",
      "text/plain": [
       "<Figure size 432x288 with 1 Axes>"
      ]
     },
     "metadata": {
      "needs_background": "light"
     },
     "output_type": "display_data"
    },
    {
     "name": "stdout",
     "output_type": "stream",
     "text": [
      "accuracy: 0.5456668070172048\n"
     ]
    }
   ],
   "source": [
    "#print frequence distribution for the categorical \n",
    "#print(df['University Rating'].value_counts(), 'describe')\n",
    "\n",
    "#bar diagram for categorical variable\n",
    "#uni= df['University Rating']\n",
    "plt.scatter(df['GRE Score'], df['Chance of Admit '])\n",
    "\n",
    "X = df['GRE Score'].values.reshape(-1, 1)\n",
    "y = df['Chance of Admit '].values.reshape(-1,1)\n",
    "\n",
    "from sklearn.model_selection import train_test_split\n",
    "X_train, X_test, y_train, y_test = train_test_split(X, y, test_size=0.2, random_state=0)\n",
    "\n",
    "from sklearn.linear_model import LinearRegression\n",
    "model = LinearRegression()\n",
    "model.fit(X_train, y_train)\n",
    "pred = model.predict(X_test)\n",
    "df2 = pd.DataFrame({'Actual': y_test.flatten(), 'Predicted': pred.flatten()})\n",
    "print(df2)\n",
    "\n",
    "#uni.value_counts().plot(kind='bar')\n",
    "#df['Research'].hist(by=df['University Rating'])\n",
    "#df.boxplot(by='Research', column='University Rating', grid=False)\n",
    "plt.show()\n",
    "\n",
    "accuracy = model.score(X_test, y_test)\n",
    "print('accuracy:',accuracy)"
   ]
  },
  {
   "cell_type": "raw",
   "metadata": {},
   "source": [
    "2.2 Correlation and Regression:<br>\n",
    "<br>\n",
    "Amongst the quantitative variables generate Relationships and Associations. <br>\n",
    "Identify two quantitative variables of interest that might be correlated and then perform the following analysis:\n",
    "GRE Score and TOEFL Score. <br>\n",
    "a) Find the correlation coefficient between the explanatory and response variable.<br>\n",
    "b) Create a scatter diagram and find R squared.<br>\n",
    "c) Validate if the correlation is significant by conducting a Hypothesis test.<br>\n",
    "Provide your rationale and justify your findings regarding the correlation between two quantitative variables of interest.<br>\n",
    "If a person scores high on the TOEFL then he is most likely going to have a higher score on his GRE test as well.<br>"
   ]
  },
  {
   "cell_type": "code",
   "execution_count": 11,
   "metadata": {},
   "outputs": [
    {
     "ename": "KeyError",
     "evalue": "\"['Chance of Admit'] not in index\"",
     "output_type": "error",
     "traceback": [
      "\u001b[0;31m---------------------------------------------------------------------------\u001b[0m",
      "\u001b[0;31mKeyError\u001b[0m                                  Traceback (most recent call last)",
      "\u001b[0;32m<ipython-input-11-93e1842505f0>\u001b[0m in \u001b[0;36m<module>\u001b[0;34m\u001b[0m\n\u001b[1;32m      1\u001b[0m \u001b[0;31m#correlation coefficient\u001b[0m\u001b[0;34m\u001b[0m\u001b[0;34m\u001b[0m\u001b[0;34m\u001b[0m\u001b[0m\n\u001b[0;32m----> 2\u001b[0;31m \u001b[0mCorr_Data\u001b[0m \u001b[0;34m=\u001b[0m \u001b[0mdf\u001b[0m\u001b[0;34m[\u001b[0m\u001b[0;34m[\u001b[0m\u001b[0;34m'GRE Score'\u001b[0m\u001b[0;34m,\u001b[0m \u001b[0;34m'Chance of Admit'\u001b[0m\u001b[0;34m]\u001b[0m\u001b[0;34m]\u001b[0m\u001b[0;34m\u001b[0m\u001b[0;34m\u001b[0m\u001b[0m\n\u001b[0m\u001b[1;32m      3\u001b[0m \u001b[0mpearsoncorr\u001b[0m \u001b[0;34m=\u001b[0m \u001b[0mCorr_Data\u001b[0m\u001b[0;34m.\u001b[0m\u001b[0mcorr\u001b[0m\u001b[0;34m(\u001b[0m\u001b[0mmethod\u001b[0m\u001b[0;34m=\u001b[0m\u001b[0;34m'pearson'\u001b[0m\u001b[0;34m)\u001b[0m\u001b[0;34m\u001b[0m\u001b[0;34m\u001b[0m\u001b[0m\n\u001b[1;32m      4\u001b[0m \u001b[0mprint\u001b[0m\u001b[0;34m(\u001b[0m\u001b[0;34m'corr'\u001b[0m\u001b[0;34m,\u001b[0m \u001b[0mpearsoncorr\u001b[0m\u001b[0;34m)\u001b[0m \u001b[0;31m#0.835977 is strong positive correlation\u001b[0m\u001b[0;34m\u001b[0m\u001b[0;34m\u001b[0m\u001b[0m\n\u001b[1;32m      5\u001b[0m \u001b[0;34m\u001b[0m\u001b[0m\n",
      "\u001b[0;32m~/opt/anaconda3/lib/python3.7/site-packages/pandas/core/frame.py\u001b[0m in \u001b[0;36m__getitem__\u001b[0;34m(self, key)\u001b[0m\n\u001b[1;32m   3028\u001b[0m             \u001b[0;32mif\u001b[0m \u001b[0mis_iterator\u001b[0m\u001b[0;34m(\u001b[0m\u001b[0mkey\u001b[0m\u001b[0;34m)\u001b[0m\u001b[0;34m:\u001b[0m\u001b[0;34m\u001b[0m\u001b[0;34m\u001b[0m\u001b[0m\n\u001b[1;32m   3029\u001b[0m                 \u001b[0mkey\u001b[0m \u001b[0;34m=\u001b[0m \u001b[0mlist\u001b[0m\u001b[0;34m(\u001b[0m\u001b[0mkey\u001b[0m\u001b[0;34m)\u001b[0m\u001b[0;34m\u001b[0m\u001b[0;34m\u001b[0m\u001b[0m\n\u001b[0;32m-> 3030\u001b[0;31m             \u001b[0mindexer\u001b[0m \u001b[0;34m=\u001b[0m \u001b[0mself\u001b[0m\u001b[0;34m.\u001b[0m\u001b[0mloc\u001b[0m\u001b[0;34m.\u001b[0m\u001b[0m_get_listlike_indexer\u001b[0m\u001b[0;34m(\u001b[0m\u001b[0mkey\u001b[0m\u001b[0;34m,\u001b[0m \u001b[0maxis\u001b[0m\u001b[0;34m=\u001b[0m\u001b[0;36m1\u001b[0m\u001b[0;34m,\u001b[0m \u001b[0mraise_missing\u001b[0m\u001b[0;34m=\u001b[0m\u001b[0;32mTrue\u001b[0m\u001b[0;34m)\u001b[0m\u001b[0;34m[\u001b[0m\u001b[0;36m1\u001b[0m\u001b[0;34m]\u001b[0m\u001b[0;34m\u001b[0m\u001b[0;34m\u001b[0m\u001b[0m\n\u001b[0m\u001b[1;32m   3031\u001b[0m \u001b[0;34m\u001b[0m\u001b[0m\n\u001b[1;32m   3032\u001b[0m         \u001b[0;31m# take() does not accept boolean indexers\u001b[0m\u001b[0;34m\u001b[0m\u001b[0;34m\u001b[0m\u001b[0;34m\u001b[0m\u001b[0m\n",
      "\u001b[0;32m~/opt/anaconda3/lib/python3.7/site-packages/pandas/core/indexing.py\u001b[0m in \u001b[0;36m_get_listlike_indexer\u001b[0;34m(self, key, axis, raise_missing)\u001b[0m\n\u001b[1;32m   1264\u001b[0m             \u001b[0mkeyarr\u001b[0m\u001b[0;34m,\u001b[0m \u001b[0mindexer\u001b[0m\u001b[0;34m,\u001b[0m \u001b[0mnew_indexer\u001b[0m \u001b[0;34m=\u001b[0m \u001b[0max\u001b[0m\u001b[0;34m.\u001b[0m\u001b[0m_reindex_non_unique\u001b[0m\u001b[0;34m(\u001b[0m\u001b[0mkeyarr\u001b[0m\u001b[0;34m)\u001b[0m\u001b[0;34m\u001b[0m\u001b[0;34m\u001b[0m\u001b[0m\n\u001b[1;32m   1265\u001b[0m \u001b[0;34m\u001b[0m\u001b[0m\n\u001b[0;32m-> 1266\u001b[0;31m         \u001b[0mself\u001b[0m\u001b[0;34m.\u001b[0m\u001b[0m_validate_read_indexer\u001b[0m\u001b[0;34m(\u001b[0m\u001b[0mkeyarr\u001b[0m\u001b[0;34m,\u001b[0m \u001b[0mindexer\u001b[0m\u001b[0;34m,\u001b[0m \u001b[0maxis\u001b[0m\u001b[0;34m,\u001b[0m \u001b[0mraise_missing\u001b[0m\u001b[0;34m=\u001b[0m\u001b[0mraise_missing\u001b[0m\u001b[0;34m)\u001b[0m\u001b[0;34m\u001b[0m\u001b[0;34m\u001b[0m\u001b[0m\n\u001b[0m\u001b[1;32m   1267\u001b[0m         \u001b[0;32mreturn\u001b[0m \u001b[0mkeyarr\u001b[0m\u001b[0;34m,\u001b[0m \u001b[0mindexer\u001b[0m\u001b[0;34m\u001b[0m\u001b[0;34m\u001b[0m\u001b[0m\n\u001b[1;32m   1268\u001b[0m \u001b[0;34m\u001b[0m\u001b[0m\n",
      "\u001b[0;32m~/opt/anaconda3/lib/python3.7/site-packages/pandas/core/indexing.py\u001b[0m in \u001b[0;36m_validate_read_indexer\u001b[0;34m(self, key, indexer, axis, raise_missing)\u001b[0m\n\u001b[1;32m   1314\u001b[0m             \u001b[0;32mif\u001b[0m \u001b[0mraise_missing\u001b[0m\u001b[0;34m:\u001b[0m\u001b[0;34m\u001b[0m\u001b[0;34m\u001b[0m\u001b[0m\n\u001b[1;32m   1315\u001b[0m                 \u001b[0mnot_found\u001b[0m \u001b[0;34m=\u001b[0m \u001b[0mlist\u001b[0m\u001b[0;34m(\u001b[0m\u001b[0mset\u001b[0m\u001b[0;34m(\u001b[0m\u001b[0mkey\u001b[0m\u001b[0;34m)\u001b[0m \u001b[0;34m-\u001b[0m \u001b[0mset\u001b[0m\u001b[0;34m(\u001b[0m\u001b[0max\u001b[0m\u001b[0;34m)\u001b[0m\u001b[0;34m)\u001b[0m\u001b[0;34m\u001b[0m\u001b[0;34m\u001b[0m\u001b[0m\n\u001b[0;32m-> 1316\u001b[0;31m                 \u001b[0;32mraise\u001b[0m \u001b[0mKeyError\u001b[0m\u001b[0;34m(\u001b[0m\u001b[0;34mf\"{not_found} not in index\"\u001b[0m\u001b[0;34m)\u001b[0m\u001b[0;34m\u001b[0m\u001b[0;34m\u001b[0m\u001b[0m\n\u001b[0m\u001b[1;32m   1317\u001b[0m \u001b[0;34m\u001b[0m\u001b[0m\n\u001b[1;32m   1318\u001b[0m             \u001b[0mnot_found\u001b[0m \u001b[0;34m=\u001b[0m \u001b[0mkey\u001b[0m\u001b[0;34m[\u001b[0m\u001b[0mmissing_mask\u001b[0m\u001b[0;34m]\u001b[0m\u001b[0;34m\u001b[0m\u001b[0;34m\u001b[0m\u001b[0m\n",
      "\u001b[0;31mKeyError\u001b[0m: \"['Chance of Admit'] not in index\""
     ]
    }
   ],
   "source": [
    "#correlation coefficient\n",
    "Corr_Data = df[['GRE Score', 'Chance of Admit']]\n",
    "pearsoncorr = Corr_Data.corr(method='pearson')\n",
    "print('corr', pearsoncorr) #0.835977 is strong positive correlation\n",
    "\n",
    "gre_reshape= df['GRE Score'].values.reshape(-1,1)\n",
    "toefl_reshape= df['TOEFL Score'].values.reshape(-1,1)\n",
    "from sklearn.model_selection import train_test_split\n",
    "X_train, X_test, y_train, y_test = train_test_split(toefl_reshape, gre_reshape, test_size=0.2, random_state=0)\n",
    "\n",
    "from sklearn.linear_model import LinearRegression\n",
    "lin_reg = LinearRegression()\n",
    "lin_reg.fit(X_train, y_train)\n",
    "lin_pred = lin_reg.predict(X_test)\n",
    "\n",
    "#scatter diagram\n",
    "plt.scatter(X_train, y_train)\n",
    "plt.plot(X_train, lin_reg.predict(X_train))\n",
    "plt.title(\"TOEFL Score - GRE Score\")\n",
    "plt.xlabel(\"TOEFL Score\")\n",
    "plt.ylabel(\"Gre Score\")\n",
    "plt.show()\n",
    "\n",
    "#r squared\n",
    "from sklearn import metrics\n",
    "print('R square = ',metrics.r2_score(y_test, lin_pred))\n",
    "\n",
    "df = pd.DataFrame({'Actual': y_test.flatten(), 'Predicted': lin_pred.flatten()})\n",
    "print(df)"
   ]
  },
  {
   "cell_type": "raw",
   "metadata": {},
   "source": [
    "2.3 Inferential Statistics<br>\n",
    "To validate the patterns demonstrated by the data within the descriptive analysis the following tests should be implemented contextually:<br>\n",
    "Implement the t test paired and independent t test.<br>\n",
    "Paired ttest:<br>\n",
    "    I will be using ttest of GRE scores with research needed which is 1 and GRE scores with research not needed.<br>\n",
    "    res0 is the dataframe with research = 0<br>\n",
    "    res1 is the dataframe with research = 1<br>\n",
    "Independent ttest:<br>\n",
    "    res0 : research is not required table<br>\n",
    "    gre scores and toefl scores<br>"
   ]
  },
  {
   "cell_type": "code",
   "execution_count": null,
   "metadata": {},
   "outputs": [],
   "source": [
    "from scipy.stats import ttest_ind, ttest_ind_from_stats, ttest_rel\n",
    "from scipy.special import stdtr\n",
    "from scipy import stats\n",
    "res0 = df[df['Research']==0]\n",
    "res1 = df[df['Research']==1]\n",
    "#print(res0.head(5))\n",
    "first_review = res0['GRE Score'].values\n",
    "second_review = res1['GRE Score'].values\n",
    "#print((res0['GRE Score'].describe(),res1['GRE Score'].describe()))\n",
    "\n",
    "t, p = ttest_rel(first_review[:10], second_review[:10])\n",
    "print('paired ttest:            t = %g  p = %g' % (t, p))\n",
    "\n",
    "#independent t test.\n",
    "#gre score and toefl score of students that applied to universities that does not require research\n",
    "\n",
    "second_review_toefl = res0['TOEFL Score'].values\n",
    "print(res0['GRE Score'].describe(),res0['TOEFL Score'].describe())\n",
    "\n",
    "t, p = ttest_ind(first_review, second_review_toefl)\n",
    "print(\"ttest_ind:t = %g  p = %g\" % (t, p))"
   ]
  },
  {
   "cell_type": "raw",
   "metadata": {},
   "source": [
    "2.4 Data Science Algorithms<br>\n",
    "1. Neural Network<br>\n",
    "2. Random Forest Regressor<br>\n",
    "3. Logistic Regression<br>\n",
    "4. Support Vector Machine<br>"
   ]
  },
  {
   "cell_type": "raw",
   "metadata": {},
   "source": [
    "1. Neural Network<br>"
   ]
  },
  {
   "cell_type": "code",
   "execution_count": null,
   "metadata": {},
   "outputs": [],
   "source": [
    "X = df[['University Rating', 'GRE Score', 'TOEFL Score']]\n",
    "y = df[['Research']]\n",
    "from sklearn.model_selection import train_test_split\n",
    "X_train, X_test, y_train, y_test = train_test_split(X, y, test_size=0.20)\n",
    "\n",
    "# Data normalization  \n",
    "#print(y_train)\n",
    "from sklearn.preprocessing import StandardScaler\n",
    "scaler = StandardScaler()\n",
    "scaler.fit(X_train)\n",
    "\n",
    "X_train = scaler.transform(X_train)\n",
    "X_test = scaler.transform(X_test)\n",
    "\n",
    "from sklearn.neural_network import MLPClassifier\n",
    "mlp = MLPClassifier(hidden_layer_sizes=(10, 10, 10), max_iter=20000)\n",
    "mlp.fit(X_train, y_train.values.ravel())\n",
    "y_pred = mlp.predict(X_test)\n",
    "print(y_pred)\n",
    "\n",
    "#performance\n",
    "from sklearn.metrics import classification_report, confusion_matrix\n",
    "print(confusion_matrix(y_test,y_pred))\n",
    "print(classification_report(y_test,y_pred))\n",
    "accuracy =  accuracy_score(y_test,y_pred)*100\n",
    "print(accuracy)"
   ]
  },
  {
   "cell_type": "raw",
   "metadata": {},
   "source": [
    "2. random forest regressor<br>"
   ]
  },
  {
   "cell_type": "code",
   "execution_count": null,
   "metadata": {},
   "outputs": [],
   "source": [
    "gre_reshape= df['GRE Score'].values.reshape(-1,1)\n",
    "admit_reshape= df['Chance of Admit '].values.reshape(-1,1)\n",
    "\n",
    "from sklearn.model_selection import train_test_split\n",
    "X_train, X_test, y_train, y_test = train_test_split(admit_reshape, gre_reshape, test_size=0.2, random_state=0)\n",
    "\n",
    "from sklearn.ensemble import RandomForestRegressor\n",
    "regressor = RandomForestRegressor(n_estimators=10)\n",
    "regressor.fit(X_train, y_train.ravel())\n",
    "y_pred = regressor.predict(X_test)\n",
    "\n",
    "from sklearn import metrics\n",
    "print('R square = ',metrics.r2_score(y_test, y_pred))\n",
    "print('Mean squared Error = ',metrics.mean_squared_error(y_test, y_pred))\n",
    "\n",
    "plt.scatter(X_train, y_train)\n",
    "plt.plot(X_train, regressor.predict(X_train))\n",
    "plt.title(\"Chance of Admit - GRE Score\")\n",
    "plt.xlabel(\"Chance of Admit\")\n",
    "plt.ylabel(\"Gre Score\")\n",
    "plt.show()"
   ]
  },
  {
   "cell_type": "raw",
   "metadata": {},
   "source": [
    "3. Regression<br>"
   ]
  },
  {
   "cell_type": "code",
   "execution_count": null,
   "metadata": {},
   "outputs": [],
   "source": [
    "#from sklearn.model_selection import train_test_split\n",
    "X_train, X_test, y_train, y_test = train_test_split(X, y, test_size=0.25, random_state=0)\n",
    "\n",
    "#feature scaling\n",
    "from sklearn.preprocessing import StandardScaler\n",
    "ss_X = StandardScaler()\n",
    "X_train = ss_X.fit_transform(X_train)\n",
    "X_test = ss_X.transform(X_test)"
   ]
  },
  {
   "cell_type": "code",
   "execution_count": null,
   "metadata": {},
   "outputs": [],
   "source": [
    "#logistic regression\n",
    "from sklearn.linear_model import LogisticRegression\n",
    "classifier = LogisticRegression(random_state=0, solver=\"liblinear\")\n",
    "classifier.fit(X_train, y_train.values.ravel())\n",
    "# Step 6 - Predict\n",
    "y_pred = classifier.predict(X_test)\n",
    "\n",
    "# Step 7 - Confusion Matrix\n",
    "from sklearn import metrics\n",
    "cm = metrics.confusion_matrix(y_test, y_pred) \n",
    "print(cm)\n",
    "accuracy = metrics.accuracy_score(y_test, y_pred) \n",
    "print(\"Accuracy score:\",accuracy)\n",
    "#accuracy of 76%"
   ]
  },
  {
   "cell_type": "raw",
   "metadata": {},
   "source": [
    "4. Support vector machine<br>"
   ]
  },
  {
   "cell_type": "code",
   "execution_count": null,
   "metadata": {},
   "outputs": [],
   "source": [
    "# Step 5 - Fit SVC Classifier\n",
    "from sklearn.svm import SVC\n",
    "classifier = SVC(kernel = \"linear\", random_state=0)\n",
    "classifier.fit(X_train, y_train.values.ravel())\n",
    "\n",
    "y_pred = classifier.predict(X_test)\n",
    "\n",
    "# Step 7 - Confusion Matrix\n",
    "from sklearn import metrics\n",
    "cm = metrics.confusion_matrix(y_test, y_pred) \n",
    "print(cm)\n",
    "accuracy = metrics.accuracy_score(y_test, y_pred) \n",
    "print(\"Accuracy score:\",accuracy)\n",
    "#accuray of 80% and svm has made 11+9= 20 incorrect predictions"
   ]
  }
 ],
 "metadata": {
  "kernelspec": {
   "display_name": "Python 3",
   "language": "python",
   "name": "python3"
  },
  "language_info": {
   "codemirror_mode": {
    "name": "ipython",
    "version": 3
   },
   "file_extension": ".py",
   "mimetype": "text/x-python",
   "name": "python",
   "nbconvert_exporter": "python",
   "pygments_lexer": "ipython3",
   "version": "3.7.6"
  }
 },
 "nbformat": 4,
 "nbformat_minor": 2
}
